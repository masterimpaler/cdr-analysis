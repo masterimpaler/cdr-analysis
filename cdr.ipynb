{
 "cells": [
  {
   "cell_type": "markdown",
   "metadata": {},
   "source": [
    "This code performs some investigative analytics on a call data record sample I got online. "
   ]
  },
  {
   "cell_type": "code",
   "execution_count": 44,
   "metadata": {
    "collapsed": false
   },
   "outputs": [],
   "source": [
    "import pandas as pd"
   ]
  },
  {
   "cell_type": "code",
   "execution_count": 45,
   "metadata": {
    "collapsed": true
   },
   "outputs": [],
   "source": [
    "import csv"
   ]
  },
  {
   "cell_type": "code",
   "execution_count": 46,
   "metadata": {
    "collapsed": true
   },
   "outputs": [],
   "source": [
    "# Read in the actual data in CSV format. Converted to Dataframe.\n",
    "calls = pd.read_csv('calls.csv')"
   ]
  },
  {
   "cell_type": "code",
   "execution_count": 47,
   "metadata": {
    "collapsed": false
   },
   "outputs": [
    {
     "data": {
      "text/plain": [
       "user          int64\n",
       "other        object\n",
       "direction    object\n",
       "duration      int64\n",
       "timestamp    object\n",
       "dtype: object"
      ]
     },
     "execution_count": 47,
     "metadata": {},
     "output_type": "execute_result"
    }
   ],
   "source": [
    "# Check headers\n",
    "calls.dtypes"
   ]
  },
  {
   "cell_type": "code",
   "execution_count": 48,
   "metadata": {
    "collapsed": false
   },
   "outputs": [
    {
     "data": {
      "text/html": [
       "<div>\n",
       "<table border=\"1\" class=\"dataframe\">\n",
       "  <thead>\n",
       "    <tr style=\"text-align: right;\">\n",
       "      <th></th>\n",
       "      <th>user</th>\n",
       "      <th>other</th>\n",
       "      <th>direction</th>\n",
       "      <th>duration</th>\n",
       "      <th>timestamp</th>\n",
       "    </tr>\n",
       "  </thead>\n",
       "  <tbody>\n",
       "    <tr>\n",
       "      <th>0</th>\n",
       "      <td>7610039694</td>\n",
       "      <td>07434677419</td>\n",
       "      <td>Incoming</td>\n",
       "      <td>211</td>\n",
       "      <td>Wed Sep 15 19:17:44 +0100 2010</td>\n",
       "    </tr>\n",
       "    <tr>\n",
       "      <th>1</th>\n",
       "      <td>7641036117</td>\n",
       "      <td>01666472054</td>\n",
       "      <td>Outgoing</td>\n",
       "      <td>31</td>\n",
       "      <td>Mon Feb 11 07:18:23 +0000 1980</td>\n",
       "    </tr>\n",
       "    <tr>\n",
       "      <th>2</th>\n",
       "      <td>7641036117</td>\n",
       "      <td>07371326239</td>\n",
       "      <td>Incoming</td>\n",
       "      <td>45</td>\n",
       "      <td>Mon Feb 11 07:45:42 +0000 1980</td>\n",
       "    </tr>\n",
       "    <tr>\n",
       "      <th>3</th>\n",
       "      <td>7641036117</td>\n",
       "      <td>07681546436</td>\n",
       "      <td>Outgoing</td>\n",
       "      <td>10</td>\n",
       "      <td>Mon Feb 11 08:04:42 +0000 1980</td>\n",
       "    </tr>\n",
       "    <tr>\n",
       "      <th>4</th>\n",
       "      <td>7641036117</td>\n",
       "      <td>07681546436</td>\n",
       "      <td>Outgoing</td>\n",
       "      <td>0</td>\n",
       "      <td>Mon Feb 11 08:05:31 +0000 1980</td>\n",
       "    </tr>\n",
       "  </tbody>\n",
       "</table>\n",
       "</div>"
      ],
      "text/plain": [
       "         user        other direction  duration                       timestamp\n",
       "0  7610039694  07434677419  Incoming       211  Wed Sep 15 19:17:44 +0100 2010\n",
       "1  7641036117  01666472054  Outgoing        31  Mon Feb 11 07:18:23 +0000 1980\n",
       "2  7641036117  07371326239  Incoming        45  Mon Feb 11 07:45:42 +0000 1980\n",
       "3  7641036117  07681546436  Outgoing        10  Mon Feb 11 08:04:42 +0000 1980\n",
       "4  7641036117  07681546436  Outgoing         0  Mon Feb 11 08:05:31 +0000 1980"
      ]
     },
     "execution_count": 48,
     "metadata": {},
     "output_type": "execute_result"
    }
   ],
   "source": [
    "# How the data looks like\n",
    "calls.head()"
   ]
  },
  {
   "cell_type": "code",
   "execution_count": 49,
   "metadata": {
    "collapsed": false
   },
   "outputs": [],
   "source": [
    "# The following line of code checks the call frequency of each user in the dataframe. For this notebook, I chose to investigate\n",
    "# the user with the highest call frequency."
   ]
  },
  {
   "cell_type": "code",
   "execution_count": 50,
   "metadata": {
    "collapsed": false
   },
   "outputs": [
    {
     "data": {
      "text/plain": [
       "7086312446    2306\n",
       "7456622368    1902\n",
       "7102745960     976\n",
       "7389444649     960\n",
       "7681546436     931\n",
       "7408255044     709\n",
       "7817341678     661\n",
       "7166594208     636\n",
       "7946912731     603\n",
       "7163185791     484\n",
       "7806391587     467\n",
       "7981267897     440\n",
       "7110730864     420\n",
       "7122915122     335\n",
       "7651896055     170\n",
       "7304637408     163\n",
       "7607124303     152\n",
       "7839321359     126\n",
       "7784425582     116\n",
       "7690700998     104\n",
       "7610039694      82\n",
       "7541486388      79\n",
       "7195393761      55\n",
       "7197268544      54\n",
       "7641036117      46\n",
       "7375968743      29\n",
       "7640835719      29\n",
       "Name: user, dtype: int64"
      ]
     },
     "execution_count": 50,
     "metadata": {},
     "output_type": "execute_result"
    }
   ],
   "source": [
    "calls.user.value_counts()"
   ]
  },
  {
   "cell_type": "code",
   "execution_count": 51,
   "metadata": {
    "collapsed": true
   },
   "outputs": [],
   "source": [
    "%matplotlib inline"
   ]
  },
  {
   "cell_type": "code",
   "execution_count": 52,
   "metadata": {
    "collapsed": false
   },
   "outputs": [
    {
     "data": {
      "text/plain": [
       "<matplotlib.axes._subplots.AxesSubplot at 0xa486f28>"
      ]
     },
     "execution_count": 52,
     "metadata": {},
     "output_type": "execute_result"
    },
    {
     "data": {
      "image/png": "[encoded data removed]",
      "text/plain": [
       "<matplotlib.figure.Figure at 0xa486b38>"
      ]
     },
     "metadata": {},
     "output_type": "display_data"
    }
   ],
   "source": [
    "#Plotted on a bar graph\n",
    "\n",
    "calls.user.value_counts().sort_index().plot(kind='bar')"
   ]
  },
  {
   "cell_type": "code",
   "execution_count": 53,
   "metadata": {
    "collapsed": true
   },
   "outputs": [],
   "source": [
    "# Seems like the guy at the top chats up a lot. Let's see if we can dig up more information about him/her\n",
    "\n",
    "## Question 1: Who does that guy chat with the most?\n",
    "\n",
    "## Question 2: Who do they chat with the longest? \n",
    "\n",
    "## Question 3: Can a linkage be extracted from Q1 and Q2?\n",
    "\n",
    "## Question 4: What times were the chats frequent?\n",
    "\n",
    "## Question 5: Is there a pattern with all the above questions?\n"
   ]
  },
  {
   "cell_type": "code",
   "execution_count": 54,
   "metadata": {
    "collapsed": false
   },
   "outputs": [
    {
     "data": {
      "text/plain": [
       "(2306, 5)"
      ]
     },
     "execution_count": 54,
     "metadata": {},
     "output_type": "execute_result"
    }
   ],
   "source": [
    "# Based on the table above. It seems user with the phone no 7086312446 chats the most. I'll take him/her as my Peron\n",
    "# of Interest (POI).\n",
    "\n",
    "# I will isolate the POI's number to get the subjects that have been in touch with him/her. Save that in a new list as shown below.\n",
    "\n",
    "# first_guy_on_list/POI = calls.loc[calls['user'].isin([7086312446])]\n",
    "\n",
    "poi = calls.loc[calls['user'].isin([7086312446])]\n",
    "\n",
    "# how many rows are on this table/ what does the call log of this guy look like? \n",
    "poi.shape"
   ]
  },
  {
   "cell_type": "code",
   "execution_count": 55,
   "metadata": {
    "collapsed": false
   },
   "outputs": [
    {
     "data": {
      "text/html": [
       "<div>\n",
       "<table border=\"1\" class=\"dataframe\">\n",
       "  <thead>\n",
       "    <tr style=\"text-align: right;\">\n",
       "      <th></th>\n",
       "      <th>user</th>\n",
       "      <th>other</th>\n",
       "      <th>direction</th>\n",
       "      <th>duration</th>\n",
       "      <th>timestamp</th>\n",
       "    </tr>\n",
       "  </thead>\n",
       "  <tbody>\n",
       "    <tr>\n",
       "      <th>1639</th>\n",
       "      <td>7086312446</td>\n",
       "      <td>07942503106</td>\n",
       "      <td>Incoming</td>\n",
       "      <td>73</td>\n",
       "      <td>Fri Sep 24 00:14:44 +0100 2010</td>\n",
       "    </tr>\n",
       "    <tr>\n",
       "      <th>1970</th>\n",
       "      <td>7086312446</td>\n",
       "      <td>07942503106</td>\n",
       "      <td>Incoming</td>\n",
       "      <td>65</td>\n",
       "      <td>Mon Sep 27 20:37:15 +0100 2010</td>\n",
       "    </tr>\n",
       "    <tr>\n",
       "      <th>1978</th>\n",
       "      <td>7086312446</td>\n",
       "      <td>07691640598</td>\n",
       "      <td>Outgoing</td>\n",
       "      <td>0</td>\n",
       "      <td>Mon Sep 27 22:11:42 +0100 2010</td>\n",
       "    </tr>\n",
       "    <tr>\n",
       "      <th>1979</th>\n",
       "      <td>7086312446</td>\n",
       "      <td>07691640598</td>\n",
       "      <td>Outgoing</td>\n",
       "      <td>1</td>\n",
       "      <td>Mon Sep 27 22:14:55 +0100 2010</td>\n",
       "    </tr>\n",
       "    <tr>\n",
       "      <th>1980</th>\n",
       "      <td>7086312446</td>\n",
       "      <td>07691640598</td>\n",
       "      <td>Outgoing</td>\n",
       "      <td>0</td>\n",
       "      <td>Mon Sep 27 22:21:31 +0100 2010</td>\n",
       "    </tr>\n",
       "  </tbody>\n",
       "</table>\n",
       "</div>"
      ],
      "text/plain": [
       "            user        other direction  duration  \\\n",
       "1639  7086312446  07942503106  Incoming        73   \n",
       "1970  7086312446  07942503106  Incoming        65   \n",
       "1978  7086312446  07691640598  Outgoing         0   \n",
       "1979  7086312446  07691640598  Outgoing         1   \n",
       "1980  7086312446  07691640598  Outgoing         0   \n",
       "\n",
       "                           timestamp  \n",
       "1639  Fri Sep 24 00:14:44 +0100 2010  \n",
       "1970  Mon Sep 27 20:37:15 +0100 2010  \n",
       "1978  Mon Sep 27 22:11:42 +0100 2010  \n",
       "1979  Mon Sep 27 22:14:55 +0100 2010  \n",
       "1980  Mon Sep 27 22:21:31 +0100 2010  "
      ]
     },
     "execution_count": 55,
     "metadata": {},
     "output_type": "execute_result"
    }
   ],
   "source": [
    "# Works! The user column has the same number meaning this table only has calls the POI got involved in.\n",
    "poi.head()"
   ]
  },
  {
   "cell_type": "code",
   "execution_count": 56,
   "metadata": {
    "collapsed": false
   },
   "outputs": [
    {
     "name": "stdout",
     "output_type": "stream",
     "text": [
      "07691640598    1327\n",
      "01304635046     368\n",
      "07304765579     196\n",
      "01808779834     101\n",
      "07784386018      84\n",
      "07837582750      57\n",
      "07669640510      47\n",
      "07690019813      40\n",
      "01626965709      16\n",
      "07728163425      14\n",
      "07898649088       9\n",
      "07942503106       7\n",
      "07393675257       6\n",
      "01709610048       6\n",
      "07451443659       5\n",
      "07373758307       3\n",
      "9                 3\n",
      "07610039694       3\n",
      "07995434761       2\n",
      "07783042200       2\n",
      "07879612231       2\n",
      "01800332401       1\n",
      "157               1\n",
      "07429005133       1\n",
      "07086312446       1\n",
      "07541486388       1\n",
      "04564840007       1\n",
      "07225298516       1\n",
      "07939005582       1\n",
      "Name: other, dtype: int64\n"
     ]
    }
   ],
   "source": [
    "# Okay, pretty neat. I want a quick summary of call frequencies with subjects of our POI's call log.\n",
    "\n",
    "poi_chat_freq = poi.other.value_counts()\n",
    "\n",
    "print poi_chat_freq"
   ]
  },
  {
   "cell_type": "code",
   "execution_count": 57,
   "metadata": {
    "collapsed": false
   },
   "outputs": [
    {
     "data": {
      "text/plain": [
       "1327"
      ]
     },
     "execution_count": 57,
     "metadata": {},
     "output_type": "execute_result"
    }
   ],
   "source": [
    "# From the record, it seems there is one person who's an outlier. They've recorded the highest chatter with my POI. In other\n",
    "# words, this person is in contact with my POI the most. \n",
    "\n",
    "# this code just serves to show that i can isolate the above subjects to see the frequency of communication between the two.\n",
    "\n",
    "# Question 1 answered. \n",
    "\n",
    "poi_chat_freq['other' == 7691640598]  #just checking"
   ]
  },
  {
   "cell_type": "code",
   "execution_count": 58,
   "metadata": {
    "collapsed": false
   },
   "outputs": [
    {
     "data": {
      "text/html": [
       "<div>\n",
       "<table border=\"1\" class=\"dataframe\">\n",
       "  <thead>\n",
       "    <tr style=\"text-align: right;\">\n",
       "      <th></th>\n",
       "      <th>count</th>\n",
       "      <th>min</th>\n",
       "      <th>max</th>\n",
       "      <th>mean</th>\n",
       "    </tr>\n",
       "    <tr>\n",
       "      <th>other</th>\n",
       "      <th></th>\n",
       "      <th></th>\n",
       "      <th></th>\n",
       "      <th></th>\n",
       "    </tr>\n",
       "  </thead>\n",
       "  <tbody>\n",
       "    <tr>\n",
       "      <th>07691640598</th>\n",
       "      <td>1327</td>\n",
       "      <td>0</td>\n",
       "      <td>2926</td>\n",
       "      <td>90.944989</td>\n",
       "    </tr>\n",
       "    <tr>\n",
       "      <th>01304635046</th>\n",
       "      <td>368</td>\n",
       "      <td>0</td>\n",
       "      <td>288</td>\n",
       "      <td>19.383152</td>\n",
       "    </tr>\n",
       "    <tr>\n",
       "      <th>07304765579</th>\n",
       "      <td>196</td>\n",
       "      <td>0</td>\n",
       "      <td>149</td>\n",
       "      <td>16.392857</td>\n",
       "    </tr>\n",
       "    <tr>\n",
       "      <th>01808779834</th>\n",
       "      <td>101</td>\n",
       "      <td>0</td>\n",
       "      <td>272</td>\n",
       "      <td>30.732673</td>\n",
       "    </tr>\n",
       "    <tr>\n",
       "      <th>07784386018</th>\n",
       "      <td>84</td>\n",
       "      <td>0</td>\n",
       "      <td>121</td>\n",
       "      <td>17.702381</td>\n",
       "    </tr>\n",
       "    <tr>\n",
       "      <th>07837582750</th>\n",
       "      <td>57</td>\n",
       "      <td>0</td>\n",
       "      <td>41</td>\n",
       "      <td>4.631579</td>\n",
       "    </tr>\n",
       "    <tr>\n",
       "      <th>07669640510</th>\n",
       "      <td>47</td>\n",
       "      <td>0</td>\n",
       "      <td>167</td>\n",
       "      <td>14.085106</td>\n",
       "    </tr>\n",
       "    <tr>\n",
       "      <th>07690019813</th>\n",
       "      <td>40</td>\n",
       "      <td>0</td>\n",
       "      <td>92</td>\n",
       "      <td>16.500000</td>\n",
       "    </tr>\n",
       "    <tr>\n",
       "      <th>01626965709</th>\n",
       "      <td>16</td>\n",
       "      <td>0</td>\n",
       "      <td>120</td>\n",
       "      <td>35.812500</td>\n",
       "    </tr>\n",
       "    <tr>\n",
       "      <th>07728163425</th>\n",
       "      <td>14</td>\n",
       "      <td>0</td>\n",
       "      <td>136</td>\n",
       "      <td>32.857143</td>\n",
       "    </tr>\n",
       "    <tr>\n",
       "      <th>07898649088</th>\n",
       "      <td>9</td>\n",
       "      <td>0</td>\n",
       "      <td>42</td>\n",
       "      <td>14.555556</td>\n",
       "    </tr>\n",
       "    <tr>\n",
       "      <th>07942503106</th>\n",
       "      <td>7</td>\n",
       "      <td>0</td>\n",
       "      <td>73</td>\n",
       "      <td>25.000000</td>\n",
       "    </tr>\n",
       "    <tr>\n",
       "      <th>01709610048</th>\n",
       "      <td>6</td>\n",
       "      <td>0</td>\n",
       "      <td>279</td>\n",
       "      <td>51.500000</td>\n",
       "    </tr>\n",
       "    <tr>\n",
       "      <th>07393675257</th>\n",
       "      <td>6</td>\n",
       "      <td>0</td>\n",
       "      <td>451</td>\n",
       "      <td>95.000000</td>\n",
       "    </tr>\n",
       "    <tr>\n",
       "      <th>07451443659</th>\n",
       "      <td>5</td>\n",
       "      <td>0</td>\n",
       "      <td>108</td>\n",
       "      <td>26.800000</td>\n",
       "    </tr>\n",
       "    <tr>\n",
       "      <th>07610039694</th>\n",
       "      <td>3</td>\n",
       "      <td>0</td>\n",
       "      <td>122</td>\n",
       "      <td>41.000000</td>\n",
       "    </tr>\n",
       "    <tr>\n",
       "      <th>07373758307</th>\n",
       "      <td>3</td>\n",
       "      <td>0</td>\n",
       "      <td>17</td>\n",
       "      <td>5.666667</td>\n",
       "    </tr>\n",
       "    <tr>\n",
       "      <th>9</th>\n",
       "      <td>3</td>\n",
       "      <td>0</td>\n",
       "      <td>16</td>\n",
       "      <td>10.333333</td>\n",
       "    </tr>\n",
       "    <tr>\n",
       "      <th>07783042200</th>\n",
       "      <td>2</td>\n",
       "      <td>0</td>\n",
       "      <td>0</td>\n",
       "      <td>0.000000</td>\n",
       "    </tr>\n",
       "    <tr>\n",
       "      <th>07879612231</th>\n",
       "      <td>2</td>\n",
       "      <td>25</td>\n",
       "      <td>57</td>\n",
       "      <td>41.000000</td>\n",
       "    </tr>\n",
       "    <tr>\n",
       "      <th>07995434761</th>\n",
       "      <td>2</td>\n",
       "      <td>3</td>\n",
       "      <td>45</td>\n",
       "      <td>24.000000</td>\n",
       "    </tr>\n",
       "    <tr>\n",
       "      <th>07541486388</th>\n",
       "      <td>1</td>\n",
       "      <td>0</td>\n",
       "      <td>0</td>\n",
       "      <td>0.000000</td>\n",
       "    </tr>\n",
       "    <tr>\n",
       "      <th>07429005133</th>\n",
       "      <td>1</td>\n",
       "      <td>0</td>\n",
       "      <td>0</td>\n",
       "      <td>0.000000</td>\n",
       "    </tr>\n",
       "    <tr>\n",
       "      <th>07225298516</th>\n",
       "      <td>1</td>\n",
       "      <td>0</td>\n",
       "      <td>0</td>\n",
       "      <td>0.000000</td>\n",
       "    </tr>\n",
       "    <tr>\n",
       "      <th>07086312446</th>\n",
       "      <td>1</td>\n",
       "      <td>0</td>\n",
       "      <td>0</td>\n",
       "      <td>0.000000</td>\n",
       "    </tr>\n",
       "    <tr>\n",
       "      <th>04564840007</th>\n",
       "      <td>1</td>\n",
       "      <td>0</td>\n",
       "      <td>0</td>\n",
       "      <td>0.000000</td>\n",
       "    </tr>\n",
       "    <tr>\n",
       "      <th>07939005582</th>\n",
       "      <td>1</td>\n",
       "      <td>0</td>\n",
       "      <td>0</td>\n",
       "      <td>0.000000</td>\n",
       "    </tr>\n",
       "    <tr>\n",
       "      <th>01800332401</th>\n",
       "      <td>1</td>\n",
       "      <td>0</td>\n",
       "      <td>0</td>\n",
       "      <td>0.000000</td>\n",
       "    </tr>\n",
       "    <tr>\n",
       "      <th>157</th>\n",
       "      <td>1</td>\n",
       "      <td>2</td>\n",
       "      <td>2</td>\n",
       "      <td>2.000000</td>\n",
       "    </tr>\n",
       "  </tbody>\n",
       "</table>\n",
       "</div>"
      ],
      "text/plain": [
       "             count  min   max       mean\n",
       "other                                   \n",
       "07691640598   1327    0  2926  90.944989\n",
       "01304635046    368    0   288  19.383152\n",
       "07304765579    196    0   149  16.392857\n",
       "01808779834    101    0   272  30.732673\n",
       "07784386018     84    0   121  17.702381\n",
       "07837582750     57    0    41   4.631579\n",
       "07669640510     47    0   167  14.085106\n",
       "07690019813     40    0    92  16.500000\n",
       "01626965709     16    0   120  35.812500\n",
       "07728163425     14    0   136  32.857143\n",
       "07898649088      9    0    42  14.555556\n",
       "07942503106      7    0    73  25.000000\n",
       "01709610048      6    0   279  51.500000\n",
       "07393675257      6    0   451  95.000000\n",
       "07451443659      5    0   108  26.800000\n",
       "07610039694      3    0   122  41.000000\n",
       "07373758307      3    0    17   5.666667\n",
       "9                3    0    16  10.333333\n",
       "07783042200      2    0     0   0.000000\n",
       "07879612231      2   25    57  41.000000\n",
       "07995434761      2    3    45  24.000000\n",
       "07541486388      1    0     0   0.000000\n",
       "07429005133      1    0     0   0.000000\n",
       "07225298516      1    0     0   0.000000\n",
       "07086312446      1    0     0   0.000000\n",
       "04564840007      1    0     0   0.000000\n",
       "07939005582      1    0     0   0.000000\n",
       "01800332401      1    0     0   0.000000\n",
       "157              1    2     2   2.000000"
      ]
     },
     "execution_count": 58,
     "metadata": {},
     "output_type": "execute_result"
    }
   ],
   "source": [
    "# Question 2: What durations does the subject have with his/her contacts?\n",
    "'''\n",
    "This could get confusing so heres some explanation. The count function denotes the frequency of the groupby(number) -> which is \n",
    "other in this case. That means; for example, the first record 01304635046 has been registered 1327 times. Hence that person has \n",
    "the highest frequecy of occurence. Clear enough? Cool. Min and Max denote the highest and lowest values based on the object that\n",
    "calls them. In this case, duration. So again; taking the example of the poi, the minimum time he/she was on phone was 0 probably\n",
    "meaning that this was a missed call. And the highest duration he/she was on phone was 288 seconds/minutes. The mean is a computation\n",
    "of the average duration spent with the person on the other end. In this scenario, I don't think average helps much because its\n",
    "calculated based on unique records in the datasets which are not constant. I'll just leave the mean function there for now.\n",
    "'''\n",
    "chatter_frequency = poi.groupby('other').duration.agg(['count', 'min', 'max', 'mean'])\n",
    "\n",
    "chatter_frequency.sort_values('count', ascending=False)"
   ]
  },
  {
   "cell_type": "code",
   "execution_count": 59,
   "metadata": {
    "collapsed": true
   },
   "outputs": [],
   "source": [
    "# The results reveal the number in Contact with my POI the most has also logged the most amount of time on phone with the POI.\n",
    "# Question 3 answered.\n",
    "# The following code shows that on a bar graph. "
   ]
  },
  {
   "cell_type": "code",
   "execution_count": 60,
   "metadata": {
    "collapsed": false
   },
   "outputs": [
    {
     "data": {
      "text/plain": [
       "<matplotlib.axes._subplots.AxesSubplot at 0xb093630>"
      ]
     },
     "execution_count": 60,
     "metadata": {},
     "output_type": "execute_result"
    },
    {
     "data": {
      "image/png": "[encoded data removed]",
      "text/plain": [
       "<matplotlib.figure.Figure at 0xb08cf98>"
      ]
     },
     "metadata": {},
     "output_type": "display_data"
    }
   ],
   "source": [
    "%matplotlib inline\n",
    "# Both these lines work. The first just shows more options I can add to be computed.\n",
    "\n",
    "## first_guy_on_list.groupby('other').duration.agg(['count', 'min', 'max', 'mean']).plot(kind='hist')\n",
    "\n",
    "# I commented out the line above to enhance visibility on the graph I'm about to plot. The other one looked pretty squeezed.\n",
    "\n",
    "poi.groupby('other').duration.agg(['max']).plot(kind='bar')"
   ]
  },
  {
   "cell_type": "code",
   "execution_count": 61,
   "metadata": {
    "collapsed": false
   },
   "outputs": [
    {
     "data": {
      "text/html": [
       "<div>\n",
       "<table border=\"1\" class=\"dataframe\">\n",
       "  <thead>\n",
       "    <tr style=\"text-align: right;\">\n",
       "      <th></th>\n",
       "      <th>user</th>\n",
       "      <th>other</th>\n",
       "      <th>direction</th>\n",
       "      <th>duration</th>\n",
       "      <th>timestamp</th>\n",
       "    </tr>\n",
       "  </thead>\n",
       "  <tbody>\n",
       "    <tr>\n",
       "      <th>4793</th>\n",
       "      <td>7086312446</td>\n",
       "      <td>07691640598</td>\n",
       "      <td>Outgoing</td>\n",
       "      <td>1694</td>\n",
       "      <td>Wed Oct 27 22:06:41 +0100 2010</td>\n",
       "    </tr>\n",
       "    <tr>\n",
       "      <th>5807</th>\n",
       "      <td>7086312446</td>\n",
       "      <td>07691640598</td>\n",
       "      <td>Incoming</td>\n",
       "      <td>1575</td>\n",
       "      <td>Mon Nov 01 23:10:31 +0000 2010</td>\n",
       "    </tr>\n",
       "    <tr>\n",
       "      <th>5958</th>\n",
       "      <td>7086312446</td>\n",
       "      <td>07691640598</td>\n",
       "      <td>Incoming</td>\n",
       "      <td>2326</td>\n",
       "      <td>Wed Nov 03 23:29:29 +0000 2010</td>\n",
       "    </tr>\n",
       "    <tr>\n",
       "      <th>6034</th>\n",
       "      <td>7086312446</td>\n",
       "      <td>07691640598</td>\n",
       "      <td>Outgoing</td>\n",
       "      <td>1804</td>\n",
       "      <td>Thu Nov 04 23:44:13 +0000 2010</td>\n",
       "    </tr>\n",
       "    <tr>\n",
       "      <th>6308</th>\n",
       "      <td>7086312446</td>\n",
       "      <td>07691640598</td>\n",
       "      <td>Outgoing</td>\n",
       "      <td>2125</td>\n",
       "      <td>Sun Nov 07 23:22:12 +0000 2010</td>\n",
       "    </tr>\n",
       "    <tr>\n",
       "      <th>6447</th>\n",
       "      <td>7086312446</td>\n",
       "      <td>07691640598</td>\n",
       "      <td>Outgoing</td>\n",
       "      <td>1201</td>\n",
       "      <td>Tue Nov 09 23:31:12 +0000 2010</td>\n",
       "    </tr>\n",
       "    <tr>\n",
       "      <th>6509</th>\n",
       "      <td>7086312446</td>\n",
       "      <td>07691640598</td>\n",
       "      <td>Incoming</td>\n",
       "      <td>1034</td>\n",
       "      <td>Wed Nov 10 23:34:20 +0000 2010</td>\n",
       "    </tr>\n",
       "    <tr>\n",
       "      <th>6600</th>\n",
       "      <td>7086312446</td>\n",
       "      <td>07691640598</td>\n",
       "      <td>Incoming</td>\n",
       "      <td>1838</td>\n",
       "      <td>Thu Nov 11 23:11:06 +0000 2010</td>\n",
       "    </tr>\n",
       "    <tr>\n",
       "      <th>7014</th>\n",
       "      <td>7086312446</td>\n",
       "      <td>07691640598</td>\n",
       "      <td>Outgoing</td>\n",
       "      <td>1297</td>\n",
       "      <td>Mon Nov 15 23:38:44 +0000 2010</td>\n",
       "    </tr>\n",
       "    <tr>\n",
       "      <th>7118</th>\n",
       "      <td>7086312446</td>\n",
       "      <td>07691640598</td>\n",
       "      <td>Incoming</td>\n",
       "      <td>1538</td>\n",
       "      <td>Wed Nov 17 23:29:23 +0000 2010</td>\n",
       "    </tr>\n",
       "    <tr>\n",
       "      <th>7553</th>\n",
       "      <td>7086312446</td>\n",
       "      <td>07691640598</td>\n",
       "      <td>Outgoing</td>\n",
       "      <td>1752</td>\n",
       "      <td>Sun Nov 21 23:29:54 +0000 2010</td>\n",
       "    </tr>\n",
       "    <tr>\n",
       "      <th>7861</th>\n",
       "      <td>7086312446</td>\n",
       "      <td>07691640598</td>\n",
       "      <td>Incoming</td>\n",
       "      <td>1300</td>\n",
       "      <td>Fri Nov 26 01:44:13 +0000 2010</td>\n",
       "    </tr>\n",
       "    <tr>\n",
       "      <th>7946</th>\n",
       "      <td>7086312446</td>\n",
       "      <td>07691640598</td>\n",
       "      <td>Outgoing</td>\n",
       "      <td>1444</td>\n",
       "      <td>Sat Nov 27 00:36:30 +0000 2010</td>\n",
       "    </tr>\n",
       "    <tr>\n",
       "      <th>8448</th>\n",
       "      <td>7086312446</td>\n",
       "      <td>07691640598</td>\n",
       "      <td>Outgoing</td>\n",
       "      <td>1639</td>\n",
       "      <td>Fri Dec 03 00:15:45 +0000 2010</td>\n",
       "    </tr>\n",
       "    <tr>\n",
       "      <th>9207</th>\n",
       "      <td>7086312446</td>\n",
       "      <td>07691640598</td>\n",
       "      <td>Incoming</td>\n",
       "      <td>1991</td>\n",
       "      <td>Mon Dec 13 23:32:14 +0000 2010</td>\n",
       "    </tr>\n",
       "    <tr>\n",
       "      <th>9329</th>\n",
       "      <td>7086312446</td>\n",
       "      <td>07691640598</td>\n",
       "      <td>Incoming</td>\n",
       "      <td>1541</td>\n",
       "      <td>Wed Dec 15 23:12:57 +0000 2010</td>\n",
       "    </tr>\n",
       "    <tr>\n",
       "      <th>9388</th>\n",
       "      <td>7086312446</td>\n",
       "      <td>07691640598</td>\n",
       "      <td>Outgoing</td>\n",
       "      <td>1172</td>\n",
       "      <td>Thu Dec 16 23:34:17 +0000 2010</td>\n",
       "    </tr>\n",
       "    <tr>\n",
       "      <th>9808</th>\n",
       "      <td>7086312446</td>\n",
       "      <td>07691640598</td>\n",
       "      <td>Outgoing</td>\n",
       "      <td>1665</td>\n",
       "      <td>Tue Dec 21 16:52:02 +0000 2010</td>\n",
       "    </tr>\n",
       "    <tr>\n",
       "      <th>9811</th>\n",
       "      <td>7086312446</td>\n",
       "      <td>07691640598</td>\n",
       "      <td>Outgoing</td>\n",
       "      <td>2341</td>\n",
       "      <td>Wed Dec 22 01:03:40 +0000 2010</td>\n",
       "    </tr>\n",
       "    <tr>\n",
       "      <th>9821</th>\n",
       "      <td>7086312446</td>\n",
       "      <td>07691640598</td>\n",
       "      <td>Outgoing</td>\n",
       "      <td>1537</td>\n",
       "      <td>Thu Dec 23 02:08:58 +0000 2010</td>\n",
       "    </tr>\n",
       "    <tr>\n",
       "      <th>9862</th>\n",
       "      <td>7086312446</td>\n",
       "      <td>07691640598</td>\n",
       "      <td>Incoming</td>\n",
       "      <td>2926</td>\n",
       "      <td>Fri Dec 24 01:36:28 +0000 2010</td>\n",
       "    </tr>\n",
       "    <tr>\n",
       "      <th>10738</th>\n",
       "      <td>7086312446</td>\n",
       "      <td>07691640598</td>\n",
       "      <td>Outgoing</td>\n",
       "      <td>1268</td>\n",
       "      <td>Tue Jan 04 23:18:49 +0000 2011</td>\n",
       "    </tr>\n",
       "    <tr>\n",
       "      <th>10744</th>\n",
       "      <td>7086312446</td>\n",
       "      <td>07691640598</td>\n",
       "      <td>Outgoing</td>\n",
       "      <td>1215</td>\n",
       "      <td>Wed Jan 05 00:04:05 +0000 2011</td>\n",
       "    </tr>\n",
       "    <tr>\n",
       "      <th>10800</th>\n",
       "      <td>7086312446</td>\n",
       "      <td>07691640598</td>\n",
       "      <td>Incoming</td>\n",
       "      <td>1950</td>\n",
       "      <td>Wed Jan 05 23:25:51 +0000 2011</td>\n",
       "    </tr>\n",
       "    <tr>\n",
       "      <th>11036</th>\n",
       "      <td>7086312446</td>\n",
       "      <td>07691640598</td>\n",
       "      <td>Outgoing</td>\n",
       "      <td>2722</td>\n",
       "      <td>Sun Jan 09 23:10:53 +0000 2011</td>\n",
       "    </tr>\n",
       "    <tr>\n",
       "      <th>11105</th>\n",
       "      <td>7086312446</td>\n",
       "      <td>07691640598</td>\n",
       "      <td>Incoming</td>\n",
       "      <td>1278</td>\n",
       "      <td>Mon Jan 10 23:28:43 +0000 2011</td>\n",
       "    </tr>\n",
       "    <tr>\n",
       "      <th>11106</th>\n",
       "      <td>7086312446</td>\n",
       "      <td>07691640598</td>\n",
       "      <td>Incoming</td>\n",
       "      <td>1387</td>\n",
       "      <td>Mon Jan 10 23:52:05 +0000 2011</td>\n",
       "    </tr>\n",
       "    <tr>\n",
       "      <th>11164</th>\n",
       "      <td>7086312446</td>\n",
       "      <td>07691640598</td>\n",
       "      <td>Outgoing</td>\n",
       "      <td>2082</td>\n",
       "      <td>Tue Jan 11 23:38:40 +0000 2011</td>\n",
       "    </tr>\n",
       "    <tr>\n",
       "      <th>11366</th>\n",
       "      <td>7086312446</td>\n",
       "      <td>07691640598</td>\n",
       "      <td>Outgoing</td>\n",
       "      <td>1579</td>\n",
       "      <td>Wed Jan 12 23:43:21 +0000 2011</td>\n",
       "    </tr>\n",
       "    <tr>\n",
       "      <th>11663</th>\n",
       "      <td>7086312446</td>\n",
       "      <td>07691640598</td>\n",
       "      <td>Outgoing</td>\n",
       "      <td>1044</td>\n",
       "      <td>Sun Jan 16 23:19:57 +0000 2011</td>\n",
       "    </tr>\n",
       "    <tr>\n",
       "      <th>11790</th>\n",
       "      <td>7086312446</td>\n",
       "      <td>07691640598</td>\n",
       "      <td>Incoming</td>\n",
       "      <td>1177</td>\n",
       "      <td>Tue Jan 18 23:14:26 +0000 2011</td>\n",
       "    </tr>\n",
       "    <tr>\n",
       "      <th>11866</th>\n",
       "      <td>7086312446</td>\n",
       "      <td>07691640598</td>\n",
       "      <td>Incoming</td>\n",
       "      <td>1256</td>\n",
       "      <td>Wed Jan 19 23:48:19 +0000 2011</td>\n",
       "    </tr>\n",
       "    <tr>\n",
       "      <th>12179</th>\n",
       "      <td>7086312446</td>\n",
       "      <td>07691640598</td>\n",
       "      <td>Outgoing</td>\n",
       "      <td>1242</td>\n",
       "      <td>Sun Jan 23 23:38:54 +0000 2011</td>\n",
       "    </tr>\n",
       "  </tbody>\n",
       "</table>\n",
       "</div>"
      ],
      "text/plain": [
       "             user        other direction  duration  \\\n",
       "4793   7086312446  07691640598  Outgoing      1694   \n",
       "5807   7086312446  07691640598  Incoming      1575   \n",
       "5958   7086312446  07691640598  Incoming      2326   \n",
       "6034   7086312446  07691640598  Outgoing      1804   \n",
       "6308   7086312446  07691640598  Outgoing      2125   \n",
       "6447   7086312446  07691640598  Outgoing      1201   \n",
       "6509   7086312446  07691640598  Incoming      1034   \n",
       "6600   7086312446  07691640598  Incoming      1838   \n",
       "7014   7086312446  07691640598  Outgoing      1297   \n",
       "7118   7086312446  07691640598  Incoming      1538   \n",
       "7553   7086312446  07691640598  Outgoing      1752   \n",
       "7861   7086312446  07691640598  Incoming      1300   \n",
       "7946   7086312446  07691640598  Outgoing      1444   \n",
       "8448   7086312446  07691640598  Outgoing      1639   \n",
       "9207   7086312446  07691640598  Incoming      1991   \n",
       "9329   7086312446  07691640598  Incoming      1541   \n",
       "9388   7086312446  07691640598  Outgoing      1172   \n",
       "9808   7086312446  07691640598  Outgoing      1665   \n",
       "9811   7086312446  07691640598  Outgoing      2341   \n",
       "9821   7086312446  07691640598  Outgoing      1537   \n",
       "9862   7086312446  07691640598  Incoming      2926   \n",
       "10738  7086312446  07691640598  Outgoing      1268   \n",
       "10744  7086312446  07691640598  Outgoing      1215   \n",
       "10800  7086312446  07691640598  Incoming      1950   \n",
       "11036  7086312446  07691640598  Outgoing      2722   \n",
       "11105  7086312446  07691640598  Incoming      1278   \n",
       "11106  7086312446  07691640598  Incoming      1387   \n",
       "11164  7086312446  07691640598  Outgoing      2082   \n",
       "11366  7086312446  07691640598  Outgoing      1579   \n",
       "11663  7086312446  07691640598  Outgoing      1044   \n",
       "11790  7086312446  07691640598  Incoming      1177   \n",
       "11866  7086312446  07691640598  Incoming      1256   \n",
       "12179  7086312446  07691640598  Outgoing      1242   \n",
       "\n",
       "                            timestamp  \n",
       "4793   Wed Oct 27 22:06:41 +0100 2010  \n",
       "5807   Mon Nov 01 23:10:31 +0000 2010  \n",
       "5958   Wed Nov 03 23:29:29 +0000 2010  \n",
       "6034   Thu Nov 04 23:44:13 +0000 2010  \n",
       "6308   Sun Nov 07 23:22:12 +0000 2010  \n",
       "6447   Tue Nov 09 23:31:12 +0000 2010  \n",
       "6509   Wed Nov 10 23:34:20 +0000 2010  \n",
       "6600   Thu Nov 11 23:11:06 +0000 2010  \n",
       "7014   Mon Nov 15 23:38:44 +0000 2010  \n",
       "7118   Wed Nov 17 23:29:23 +0000 2010  \n",
       "7553   Sun Nov 21 23:29:54 +0000 2010  \n",
       "7861   Fri Nov 26 01:44:13 +0000 2010  \n",
       "7946   Sat Nov 27 00:36:30 +0000 2010  \n",
       "8448   Fri Dec 03 00:15:45 +0000 2010  \n",
       "9207   Mon Dec 13 23:32:14 +0000 2010  \n",
       "9329   Wed Dec 15 23:12:57 +0000 2010  \n",
       "9388   Thu Dec 16 23:34:17 +0000 2010  \n",
       "9808   Tue Dec 21 16:52:02 +0000 2010  \n",
       "9811   Wed Dec 22 01:03:40 +0000 2010  \n",
       "9821   Thu Dec 23 02:08:58 +0000 2010  \n",
       "9862   Fri Dec 24 01:36:28 +0000 2010  \n",
       "10738  Tue Jan 04 23:18:49 +0000 2011  \n",
       "10744  Wed Jan 05 00:04:05 +0000 2011  \n",
       "10800  Wed Jan 05 23:25:51 +0000 2011  \n",
       "11036  Sun Jan 09 23:10:53 +0000 2011  \n",
       "11105  Mon Jan 10 23:28:43 +0000 2011  \n",
       "11106  Mon Jan 10 23:52:05 +0000 2011  \n",
       "11164  Tue Jan 11 23:38:40 +0000 2011  \n",
       "11366  Wed Jan 12 23:43:21 +0000 2011  \n",
       "11663  Sun Jan 16 23:19:57 +0000 2011  \n",
       "11790  Tue Jan 18 23:14:26 +0000 2011  \n",
       "11866  Wed Jan 19 23:48:19 +0000 2011  \n",
       "12179  Sun Jan 23 23:38:54 +0000 2011  "
      ]
     },
     "execution_count": 61,
     "metadata": {},
     "output_type": "execute_result"
    }
   ],
   "source": [
    "# Bonus investigation query. Get all calls with POI involved with durations above 1000.\n",
    "\n",
    "poi.loc[(poi.duration > 1000) & (poi.direction.isin(['Incoming', 'Outgoing'])), :]"
   ]
  },
  {
   "cell_type": "code",
   "execution_count": 62,
   "metadata": {
    "collapsed": false
   },
   "outputs": [],
   "source": [
    "# Question 4"
   ]
  },
  {
   "cell_type": "code",
   "execution_count": 63,
   "metadata": {
    "collapsed": true
   },
   "outputs": [],
   "source": [
    "# Get the data types for respective columns. Of interest is the timestamp colums. I need it in datetime format as oposed to \n",
    "# type Object"
   ]
  },
  {
   "cell_type": "code",
   "execution_count": 64,
   "metadata": {
    "collapsed": false
   },
   "outputs": [
    {
     "data": {
      "text/plain": [
       "user          int64\n",
       "other        object\n",
       "direction    object\n",
       "duration      int64\n",
       "timestamp    object\n",
       "dtype: object"
      ]
     },
     "execution_count": 64,
     "metadata": {},
     "output_type": "execute_result"
    }
   ],
   "source": [
    "poi.dtypes"
   ]
  },
  {
   "cell_type": "code",
   "execution_count": 65,
   "metadata": {
    "collapsed": false
   },
   "outputs": [],
   "source": [
    "# Play around with the time. I need to change the Timestamp format from object to datetime.\n",
    "\n",
    "poi.loc[:,'timestamp'] = pd.to_datetime(poi['timestamp'])"
   ]
  },
  {
   "cell_type": "code",
   "execution_count": 66,
   "metadata": {
    "collapsed": false
   },
   "outputs": [
    {
     "data": {
      "text/plain": [
       "user                  int64\n",
       "other                object\n",
       "direction            object\n",
       "duration              int64\n",
       "timestamp    datetime64[ns]\n",
       "dtype: object"
      ]
     },
     "execution_count": 66,
     "metadata": {},
     "output_type": "execute_result"
    }
   ],
   "source": [
    "# Will check why its making errors above. Meanwhile, Its changed the data type to date time. On to manipulations\n",
    "poi.dtypes"
   ]
  },
  {
   "cell_type": "code",
   "execution_count": 25,
   "metadata": {
    "collapsed": false
   },
   "outputs": [
    {
     "data": {
      "text/plain": [
       "Thursday     433\n",
       "Monday       416\n",
       "Wednesday    414\n",
       "Tuesday      340\n",
       "Friday       311\n",
       "Saturday     213\n",
       "Sunday       179\n",
       "Name: timestamp, dtype: int64"
      ]
     },
     "execution_count": 25,
     "metadata": {},
     "output_type": "execute_result"
    }
   ],
   "source": [
    "# Question. Which days have the  do talks with POI take place. \n",
    "\n",
    "poi.timestamp.dt.weekday_name.value_counts()"
   ]
  },
  {
   "cell_type": "code",
   "execution_count": 26,
   "metadata": {
    "collapsed": false
   },
   "outputs": [],
   "source": [
    "# Thursday appears to be the day most calls happen while Sunday records the least amount of time the POI engages in calls."
   ]
  },
  {
   "cell_type": "code",
   "execution_count": 27,
   "metadata": {
    "collapsed": false
   },
   "outputs": [],
   "source": [
    "# Question: Enumerate the times calls take place."
   ]
  },
  {
   "cell_type": "code",
   "execution_count": 28,
   "metadata": {
    "collapsed": false
   },
   "outputs": [
    {
     "data": {
      "text/plain": [
       "<matplotlib.axes._subplots.AxesSubplot at 0x9c546a0>"
      ]
     },
     "execution_count": 28,
     "metadata": {},
     "output_type": "execute_result"
    },
    {
     "data": {
      "image/png": "[encoded data removed]",
      "text/plain": [
       "<matplotlib.figure.Figure at 0x9c61fd0>"
      ]
     },
     "metadata": {},
     "output_type": "display_data"
    }
   ],
   "source": [
    "# This is the distribution of calls made for the POI. \n",
    "\n",
    "# ie The 16th (1600) hour registered the highest number of calls. The 3rd hour registered the least number of calls.\n",
    "\n",
    "poi.timestamp.dt.hour.value_counts().plot(kind = 'bar')"
   ]
  },
  {
   "cell_type": "code",
   "execution_count": 29,
   "metadata": {
    "collapsed": false
   },
   "outputs": [
    {
     "data": {
      "text/plain": [
       "(2306L,)"
      ]
     },
     "execution_count": 29,
     "metadata": {},
     "output_type": "execute_result"
    }
   ],
   "source": [
    "# Confirm if this is a true representation of the POI call log number of entries. It is supposed to equal to 2306\n",
    "\n",
    "poi.timestamp.dt.hour.shape"
   ]
  },
  {
   "cell_type": "code",
   "execution_count": null,
   "metadata": {
    "collapsed": true
   },
   "outputs": [],
   "source": [
    "# Question 6 "
   ]
  },
  {
   "cell_type": "code",
   "execution_count": null,
   "metadata": {
    "collapsed": false
   },
   "outputs": [],
   "source": [
    "# What’s the POI’s credit worthiness - expressed as a ratio of outgoing : incoming?"
   ]
  },
  {
   "cell_type": "code",
   "execution_count": 106,
   "metadata": {
    "collapsed": false
   },
   "outputs": [
    {
     "name": "stdout",
     "output_type": "stream",
     "text": [
      "52.4315918664\n"
     ]
    }
   ],
   "source": [
    "# This assumes the last two months are December and January\n",
    "\n",
    "outgoing_ealier_months = poi[(poi['direction'] == \"Outgoing\") & (poi.timestamp.dt.month <= 10)].duration.mean()\n",
    "\n",
    "outgoing_latter_months = (poi[(poi['direction'] == \"Outgoing\") & (poi.timestamp.dt.month > 10)].duration.mean()) * 1.2\n",
    "\n",
    "outgoing = (outgoing_ealier_months + outgoing_latter_months) / 2\n",
    "\n",
    "print outgoing"
   ]
  },
  {
   "cell_type": "code",
   "execution_count": 110,
   "metadata": {
    "collapsed": false
   },
   "outputs": [
    {
     "name": "stdout",
     "output_type": "stream",
     "text": [
      "185.185746606\n"
     ]
    }
   ],
   "source": [
    "incoming_earlier_months = poi[(poi['direction'] == \"Incoming\") & (poi.timestamp.dt.month <= 10)].duration.mean()\n",
    "\n",
    "incoming_latter_months = poi[(poi['direction'] == \"Incoming\") & (poi.timestamp.dt.month > 10)].duration.mean() * 1.2\n",
    "\n",
    "incoming = (incoming_earlier_months + incoming_latter_months) / 2\n",
    "\n",
    "print incoming"
   ]
  },
  {
   "cell_type": "code",
   "execution_count": 111,
   "metadata": {
    "collapsed": false
   },
   "outputs": [
    {
     "data": {
      "text/plain": [
       "4.0"
      ]
     },
     "execution_count": 111,
     "metadata": {},
     "output_type": "execute_result"
    }
   ],
   "source": [
    "# Ratio of Outgoing : Incoming\n",
    "\n",
    "# simplification\n",
    "round(185.185746606/52.4315918664)"
   ]
  },
  {
   "cell_type": "code",
   "execution_count": 95,
   "metadata": {
    "collapsed": false
   },
   "outputs": [],
   "source": [
    "# The credit worthiness of the POI expressed as Outgoing: Incoming is approximately 1:4"
   ]
  }
 ],
 "metadata": {
  "kernelspec": {
   "display_name": "Python 2",
   "language": "python",
   "name": "python2"
  },
  "language_info": {
   "codemirror_mode": {
    "name": "ipython",
    "version": 2
   },
   "file_extension": ".py",
   "mimetype": "text/x-python",
   "name": "python",
   "nbconvert_exporter": "python",
   "pygments_lexer": "ipython2",
   "version": "2.7.12"
  }
 },
 "nbformat": 4,
 "nbformat_minor": 0
}
